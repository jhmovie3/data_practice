{
 "cells": [
  {
   "cell_type": "code",
   "execution_count": 1,
   "source": [
    "#날짜범위 기능, 간략화\r\n",
    "from pandas_datareader import data as web\r\n",
    "import pandas as pd\r\n",
    "import numpy as np\r\n",
    "\r\n",
    "KOSPI_df=web.DataReader('^KOSPI','stooq')\r\n",
    "SPX_df=web.DataReader('^SPX','stooq')\r\n",
    "NDQ_df=web.DataReader('^NDQ','stooq')\r\n",
    "DJI_df=web.DataReader('^DJI','stooq')"
   ],
   "outputs": [],
   "metadata": {}
  },
  {
   "cell_type": "code",
   "execution_count": 16,
   "source": [
    "import time\r\n",
    "start=time.time()\r\n",
    "def col(index_df,init=None,col='Close'): # ! 함수의 non-default parameter는 맨 앞에 있어야한다.\r\n",
    "    cindex_df=index_df.copy()\r\n",
    "    cindex_df.columns=[str(init)+column for column in cindex_df.columns]\r\n",
    "    pivot=pd.pivot_table(cindex_df,values=str(init)+col,index=cindex_df.index).sort_index(ascending=False) # ! values,index설정한꺼번에\r\n",
    "    return pivot\r\n",
    "  \r\n",
    "#코스피와의 연관성\r\n",
    "def merge(pivot): \r\n",
    "    m=pd.merge(KOSPI_df['Close'],pivot,on='Date')\r\n",
    "    return m  \r\n",
    "\r\n",
    "def corr(m):\r\n",
    "    correlation=m.iloc[:,[0,1]].corr(method='pearson')\r\n",
    "    return print(correlation,sep='\\n')\r\n",
    "\r\n",
    "s=corr(merge(col(SPX_df,'S_'))) \r\n",
    "n=corr(merge(col(NDQ_df,'N_')))\r\n",
    "d=corr(merge(col(DJI_df,'D_')))\r\n",
    "\r\n",
    "print(\"time :\", time.time() - start)"
   ],
   "outputs": [
    {
     "output_type": "stream",
     "name": "stdout",
     "text": [
      "            Close   S_Close\n",
      "Close    1.000000  0.754326\n",
      "S_Close  0.754326  1.000000\n",
      "            Close   N_Close\n",
      "Close    1.000000  0.745234\n",
      "N_Close  0.745234  1.000000\n",
      "            Close   D_Close\n",
      "Close    1.000000  0.715072\n",
      "D_Close  0.715072  1.000000\n",
      "time : 0.09773612022399902\n"
     ]
    }
   ],
   "metadata": {}
  },
  {
   "cell_type": "code",
   "execution_count": 32,
   "source": [
    "start=time.time()\r\n",
    "def corr(index_df,init,col='Close',day=1000): # ! 함수의 non-default parameter는 맨 앞에 있어야한다.\r\n",
    "    cindex_df=index_df.copy()\r\n",
    "    cindex_df.columns=[str(init)+column for column in cindex_df.columns]\r\n",
    "    m=pd.merge(KOSPI_df[col],cindex_df[str(init)+col],on='Date')\r\n",
    "    correlation=m.iloc[:day,[0,1]].corr(method='pearson') # ! (0,1)칼럼간의 비교\r\n",
    "    return print(correlation)\r\n",
    "\r\n",
    "s=corr(SPX_df,'S_')\r\n",
    "n=corr(NDQ_df,'N_')\r\n",
    "d=corr(DJI_df,'D_')\r\n",
    "\r\n",
    "print(\"time :\", time.time() - start)"
   ],
   "outputs": [
    {
     "output_type": "stream",
     "name": "stdout",
     "text": [
      "            Close   S_Close\n",
      "Close    1.000000  0.731604\n",
      "S_Close  0.731604  1.000000\n",
      "            Close   N_Close\n",
      "Close    1.000000  0.716046\n",
      "N_Close  0.716046  1.000000\n",
      "            Close   D_Close\n",
      "Close    1.000000  0.706442\n",
      "D_Close  0.706442  1.000000\n",
      "time : 0.04587602615356445\n"
     ]
    }
   ],
   "metadata": {}
  }
 ],
 "metadata": {
  "orig_nbformat": 4,
  "language_info": {
   "name": "python",
   "version": "3.8.6",
   "mimetype": "text/x-python",
   "codemirror_mode": {
    "name": "ipython",
    "version": 3
   },
   "pygments_lexer": "ipython3",
   "nbconvert_exporter": "python",
   "file_extension": ".py"
  },
  "kernelspec": {
   "name": "python3",
   "display_name": "Python 3.8.6 32-bit"
  },
  "interpreter": {
   "hash": "b1269504bf1248269f056a465bc4c12d8a4acb51f1ea5e065be3f9e0fb3ca3ae"
  }
 },
 "nbformat": 4,
 "nbformat_minor": 2
}